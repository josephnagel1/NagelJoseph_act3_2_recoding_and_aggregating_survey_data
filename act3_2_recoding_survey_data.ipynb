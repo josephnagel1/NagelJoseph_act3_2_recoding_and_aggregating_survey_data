{
 "cells": [
  {
   "cell_type": "markdown",
   "id": "825b2901",
   "metadata": {},
   "source": [
    "# Activity 3.2 – Recoding and Aggregating a Health Care Survey\n",
    "\n",
    "## Part 1 – Three ways to recode\n",
    "\n",
    "Before we get the the main event, let’s practice recoding the survey\n",
    "data in three ways. In all cases, our goal is to assign a score of `5` to\n",
    "`\"Strongly Agree\"` down to a score of `1` to `\"Strongly Disagree\"`.\n",
    "\n",
    "| Old Label                    | Regular Coded Value |\n",
    "|------------------------------|---------------------|\n",
    "| `\"Strongly Disagree\"`          | 1                   |\n",
    "| `\"Somewhat Disagree\"`          | 2                   |\n",
    "| `\"Neither Agree nor Disagree\"` | 3                   |\n",
    "| `\"Somewhat Agree\"`             | 4                   |\n",
    "| `\"Strongly Agree\"`             | 5                   |\n",
    "\n",
    "**Preparation.** Recall that the `more_dfply.recode` function allows us to\n",
    "recode a column using a `dict`."
   ]
  },
  {
   "cell_type": "code",
   "execution_count": 5,
   "id": "333658c2",
   "metadata": {},
   "outputs": [],
   "source": [
    "import pandas as pd\n",
    "from dfply import *\n",
    "from more_dfply import *\n",
    "import matplotlib as plt\n",
    "import seaborn as sns"
   ]
  },
  {
   "cell_type": "markdown",
   "id": "3b2b70c6",
   "metadata": {},
   "source": [
    "1.  Load the health survey data found in the data folder.  Inspect the column names, then fix the issues with the `\".\"`s.  **Hint.** We can use `dfply.rename` with the `dict` unpacking trick."
   ]
  },
  {
   "cell_type": "code",
   "execution_count": 10,
   "id": "23521352",
   "metadata": {},
   "outputs": [],
   "source": [
    "survey = pd.read_csv('data/health_survey.csv')"
   ]
  },
  {
   "cell_type": "code",
   "execution_count": 11,
   "id": "cd21337a",
   "metadata": {},
   "outputs": [],
   "source": [
    "new_names = {c.replace(\".\", \"_\"):c for c in survey.columns}"
   ]
  },
  {
   "cell_type": "code",
   "execution_count": 13,
   "id": "b9d474bd",
   "metadata": {},
   "outputs": [],
   "source": [
    "survey = (survey\n",
    "    >> rename(**new_names)\n",
    ")"
   ]
  },
  {
   "cell_type": "code",
   "execution_count": null,
   "id": "319fcdb6",
   "metadata": {},
   "outputs": [],
   "source": [
    "# columns = contains(\".\").evaluate(survey)\n",
    "#columns\n"
   ]
  },
  {
   "cell_type": "code",
   "execution_count": null,
   "id": "69a87c74",
   "metadata": {},
   "outputs": [
    {
     "data": {
      "text/plain": [
       "'F2_2'"
      ]
     },
     "execution_count": 14,
     "metadata": {},
     "output_type": "execute_result"
    }
   ],
   "source": [
    "# c = \"F2.2\"\n",
    "\n",
    "# c.replace(\".\", \"_\")"
   ]
  },
  {
   "cell_type": "markdown",
   "id": "b62acdb2",
   "metadata": {},
   "source": [
    "2.  Use `unique` to verify the labels of various columns. Create a `dict` mapping each survey responses to the corresponding score."
   ]
  },
  {
   "cell_type": "code",
   "execution_count": null,
   "id": "8d0efba2",
   "metadata": {},
   "outputs": [
    {
     "data": {
      "text/plain": [
       "array(['Somewhat Agree', 'Strongly Agree', 'Neither Agree nor Disagree',\n",
       "       'Strongly Disagree', 'Somewhat Disagree'], dtype=object)"
      ]
     },
     "execution_count": 38,
     "metadata": {},
     "output_type": "execute_result"
    }
   ],
   "source": [
    "# survey.F1_1.unique()"
   ]
  },
  {
   "cell_type": "code",
   "execution_count": null,
   "id": "f22a2363",
   "metadata": {},
   "outputs": [],
   "source": [
    "recode = {\"Strongly Agree\": 5,\n",
    "          \"Somewhat Agree\": 4,\n",
    "          'Neither Agree nor Disagree': 3,\n",
    "          'Somewhat Disagree': 2,\n",
    "          'Strongly Disagree': 1}"
   ]
  },
  {
   "cell_type": "markdown",
   "id": "767142e8",
   "metadata": {},
   "source": [
    "3.  Test your dictionary with the `map` method on one of the columns.  The columns `F2` and `F1.1` are good test cases."
   ]
  },
  {
   "cell_type": "code",
   "execution_count": null,
   "id": "c961439e",
   "metadata": {},
   "outputs": [
    {
     "data": {
      "text/plain": [
       "0    4\n",
       "1    4\n",
       "Name: F1, dtype: int64"
      ]
     },
     "execution_count": 49,
     "metadata": {},
     "output_type": "execute_result"
    }
   ],
   "source": [
    "survey.F1.map(recode).head(2)"
   ]
  },
  {
   "cell_type": "code",
   "execution_count": null,
   "id": "d849e0c0",
   "metadata": {},
   "outputs": [
    {
     "data": {
      "text/plain": [
       "0    4.0\n",
       "1    4.0\n",
       "Name: F2, dtype: float64"
      ]
     },
     "execution_count": 50,
     "metadata": {},
     "output_type": "execute_result"
    }
   ],
   "source": [
    "survey.F2.map(recode).head(2)"
   ]
  },
  {
   "cell_type": "markdown",
   "id": "c64fead3",
   "metadata": {},
   "source": [
    "4. Explain why you should be using the `pandas` `Int64` data type here.  Details on the necessity and use of this data type can be found in [Lecture 2.4](https://github.com/wsu-stat489/module2_intro_to_pandas/blob/main/2_4_pandas_dtypes.ipynb)"
   ]
  },
  {
   "cell_type": "markdown",
   "id": "2a327e57",
   "metadata": {},
   "source": [
    "We should be using Int64 here because it can handle missingness."
   ]
  },
  {
   "cell_type": "markdown",
   "id": "b0ad440c",
   "metadata": {},
   "source": [
    "#### Method 1 – Brute Force. \n",
    "\n",
    "The naïve approach to applying our mapping\n",
    "is the construct a `mutate`, writing one line per column. This will become\n",
    "annoying."
   ]
  },
  {
   "cell_type": "markdown",
   "id": "7504ac51",
   "metadata": {},
   "source": [
    "1.  Create a pipe that uses `mutate` to transform at least 10 of the columns."
   ]
  },
  {
   "cell_type": "code",
   "execution_count": null,
   "id": "6597492b",
   "metadata": {},
   "outputs": [
    {
     "data": {
      "text/html": [
       "<div>\n",
       "<style scoped>\n",
       "    .dataframe tbody tr th:only-of-type {\n",
       "        vertical-align: middle;\n",
       "    }\n",
       "\n",
       "    .dataframe tbody tr th {\n",
       "        vertical-align: top;\n",
       "    }\n",
       "\n",
       "    .dataframe thead th {\n",
       "        text-align: right;\n",
       "    }\n",
       "</style>\n",
       "<table border=\"1\" class=\"dataframe\">\n",
       "  <thead>\n",
       "    <tr style=\"text-align: right;\">\n",
       "      <th></th>\n",
       "      <th>ID</th>\n",
       "      <th>F1</th>\n",
       "      <th>F5</th>\n",
       "      <th>F2</th>\n",
       "      <th>F1_1</th>\n",
       "      <th>F2_1</th>\n",
       "      <th>F6</th>\n",
       "      <th>F4</th>\n",
       "      <th>F3</th>\n",
       "      <th>F5_1</th>\n",
       "      <th>...</th>\n",
       "      <th>F1_recoded</th>\n",
       "      <th>F1_1_recoded</th>\n",
       "      <th>F1_2_recoded</th>\n",
       "      <th>F1_3_recoded</th>\n",
       "      <th>F1_4_recoded</th>\n",
       "      <th>F2_1_recoded</th>\n",
       "      <th>F3_1_recoded</th>\n",
       "      <th>F4_1_recoded</th>\n",
       "      <th>F5_1_recoded</th>\n",
       "      <th>F6_1_recoded</th>\n",
       "    </tr>\n",
       "  </thead>\n",
       "  <tbody>\n",
       "    <tr>\n",
       "      <th>0</th>\n",
       "      <td>1</td>\n",
       "      <td>Somewhat Agree</td>\n",
       "      <td>Somewhat Disagree</td>\n",
       "      <td>Somewhat Agree</td>\n",
       "      <td>Somewhat Agree</td>\n",
       "      <td>Somewhat Agree</td>\n",
       "      <td>Somewhat Disagree</td>\n",
       "      <td>Somewhat Agree</td>\n",
       "      <td>Somewhat Agree</td>\n",
       "      <td>Somewhat Agree</td>\n",
       "      <td>...</td>\n",
       "      <td>4</td>\n",
       "      <td>4</td>\n",
       "      <td>4</td>\n",
       "      <td>4</td>\n",
       "      <td>3</td>\n",
       "      <td>4.0</td>\n",
       "      <td>2.0</td>\n",
       "      <td>4</td>\n",
       "      <td>4</td>\n",
       "      <td>4.0</td>\n",
       "    </tr>\n",
       "    <tr>\n",
       "      <th>1</th>\n",
       "      <td>2</td>\n",
       "      <td>Somewhat Agree</td>\n",
       "      <td>Somewhat Disagree</td>\n",
       "      <td>Somewhat Agree</td>\n",
       "      <td>Somewhat Agree</td>\n",
       "      <td>Somewhat Agree</td>\n",
       "      <td>Somewhat Disagree</td>\n",
       "      <td>Somewhat Agree</td>\n",
       "      <td>Neither Agree nor Disagree</td>\n",
       "      <td>Neither Agree nor Disagree</td>\n",
       "      <td>...</td>\n",
       "      <td>4</td>\n",
       "      <td>4</td>\n",
       "      <td>4</td>\n",
       "      <td>4</td>\n",
       "      <td>4</td>\n",
       "      <td>4.0</td>\n",
       "      <td>3.0</td>\n",
       "      <td>3</td>\n",
       "      <td>3</td>\n",
       "      <td>4.0</td>\n",
       "    </tr>\n",
       "    <tr>\n",
       "      <th>2</th>\n",
       "      <td>3</td>\n",
       "      <td>Strongly Agree</td>\n",
       "      <td>Neither Agree nor Disagree</td>\n",
       "      <td>Somewhat Agree</td>\n",
       "      <td>Strongly Agree</td>\n",
       "      <td>Strongly Agree</td>\n",
       "      <td>Somewhat Disagree</td>\n",
       "      <td>Somewhat Agree</td>\n",
       "      <td>Somewhat Agree</td>\n",
       "      <td>Somewhat Agree</td>\n",
       "      <td>...</td>\n",
       "      <td>5</td>\n",
       "      <td>5</td>\n",
       "      <td>5</td>\n",
       "      <td>5</td>\n",
       "      <td>2</td>\n",
       "      <td>5.0</td>\n",
       "      <td>2.0</td>\n",
       "      <td>3</td>\n",
       "      <td>4</td>\n",
       "      <td>3.0</td>\n",
       "    </tr>\n",
       "    <tr>\n",
       "      <th>3</th>\n",
       "      <td>4</td>\n",
       "      <td>Somewhat Agree</td>\n",
       "      <td>Somewhat Agree</td>\n",
       "      <td>Strongly Agree</td>\n",
       "      <td>Somewhat Agree</td>\n",
       "      <td>Strongly Agree</td>\n",
       "      <td>Neither Agree nor Disagree</td>\n",
       "      <td>Neither Agree nor Disagree</td>\n",
       "      <td>Somewhat Disagree</td>\n",
       "      <td>Somewhat Agree</td>\n",
       "      <td>...</td>\n",
       "      <td>4</td>\n",
       "      <td>4</td>\n",
       "      <td>5</td>\n",
       "      <td>4</td>\n",
       "      <td>3</td>\n",
       "      <td>5.0</td>\n",
       "      <td>2.0</td>\n",
       "      <td>3</td>\n",
       "      <td>4</td>\n",
       "      <td>4.0</td>\n",
       "    </tr>\n",
       "    <tr>\n",
       "      <th>4</th>\n",
       "      <td>5</td>\n",
       "      <td>Strongly Agree</td>\n",
       "      <td>Strongly Disagree</td>\n",
       "      <td>Neither Agree nor Disagree</td>\n",
       "      <td>Strongly Agree</td>\n",
       "      <td>Somewhat Agree</td>\n",
       "      <td>Strongly Disagree</td>\n",
       "      <td>Strongly Agree</td>\n",
       "      <td>Somewhat Agree</td>\n",
       "      <td>Neither Agree nor Disagree</td>\n",
       "      <td>...</td>\n",
       "      <td>5</td>\n",
       "      <td>5</td>\n",
       "      <td>5</td>\n",
       "      <td>5</td>\n",
       "      <td>4</td>\n",
       "      <td>4.0</td>\n",
       "      <td>4.0</td>\n",
       "      <td>3</td>\n",
       "      <td>3</td>\n",
       "      <td>4.0</td>\n",
       "    </tr>\n",
       "  </tbody>\n",
       "</table>\n",
       "<p>5 rows × 55 columns</p>\n",
       "</div>"
      ],
      "text/plain": [
       "   ID              F1                          F5                          F2  \\\n",
       "0   1  Somewhat Agree           Somewhat Disagree              Somewhat Agree   \n",
       "1   2  Somewhat Agree           Somewhat Disagree              Somewhat Agree   \n",
       "2   3  Strongly Agree  Neither Agree nor Disagree              Somewhat Agree   \n",
       "3   4  Somewhat Agree              Somewhat Agree              Strongly Agree   \n",
       "4   5  Strongly Agree           Strongly Disagree  Neither Agree nor Disagree   \n",
       "\n",
       "             F1_1            F2_1                          F6  \\\n",
       "0  Somewhat Agree  Somewhat Agree           Somewhat Disagree   \n",
       "1  Somewhat Agree  Somewhat Agree           Somewhat Disagree   \n",
       "2  Strongly Agree  Strongly Agree           Somewhat Disagree   \n",
       "3  Somewhat Agree  Strongly Agree  Neither Agree nor Disagree   \n",
       "4  Strongly Agree  Somewhat Agree           Strongly Disagree   \n",
       "\n",
       "                           F4                          F3  \\\n",
       "0              Somewhat Agree              Somewhat Agree   \n",
       "1              Somewhat Agree  Neither Agree nor Disagree   \n",
       "2              Somewhat Agree              Somewhat Agree   \n",
       "3  Neither Agree nor Disagree           Somewhat Disagree   \n",
       "4              Strongly Agree              Somewhat Agree   \n",
       "\n",
       "                         F5_1  ... F1_recoded F1_1_recoded F1_2_recoded  \\\n",
       "0              Somewhat Agree  ...          4            4            4   \n",
       "1  Neither Agree nor Disagree  ...          4            4            4   \n",
       "2              Somewhat Agree  ...          5            5            5   \n",
       "3              Somewhat Agree  ...          4            4            5   \n",
       "4  Neither Agree nor Disagree  ...          5            5            5   \n",
       "\n",
       "  F1_3_recoded F1_4_recoded F2_1_recoded F3_1_recoded F4_1_recoded  \\\n",
       "0            4            3          4.0          2.0            4   \n",
       "1            4            4          4.0          3.0            3   \n",
       "2            5            2          5.0          2.0            3   \n",
       "3            4            3          5.0          2.0            3   \n",
       "4            5            4          4.0          4.0            3   \n",
       "\n",
       "  F5_1_recoded F6_1_recoded  \n",
       "0            4          4.0  \n",
       "1            3          4.0  \n",
       "2            4          3.0  \n",
       "3            4          4.0  \n",
       "4            3          4.0  \n",
       "\n",
       "[5 rows x 55 columns]"
      ]
     },
     "execution_count": 54,
     "metadata": {},
     "output_type": "execute_result"
    }
   ],
   "source": [
    "(survey\n",
    "    >> mutate(F1_recoded = X.F1.map(recode),\n",
    "              F1_1_recoded = X.F1_1.map(recode),\n",
    "              F1_2_recoded = X.F1_2.map(recode),\n",
    "              F1_3_recoded = X.F1_3.map(recode),\n",
    "              F1_4_recoded = X.F1_4.map(recode),\n",
    "              F2_1_recoded = X.F2_1.map(recode),\n",
    "              F3_1_recoded = X.F3_1.map(recode),\n",
    "              F4_1_recoded = X.F4_1.map(recode),\n",
    "              F5_1_recoded = X.F5_1.map(recode),\n",
    "              F6_1_recoded = X.F6_1.map(recode)\n",
    "             )\n",
    "    >> head()\n",
    ")"
   ]
  },
  {
   "cell_type": "markdown",
   "id": "96b6a5d8",
   "metadata": {},
   "source": [
    "2.  Explain,\n",
    "\n",
    "    1.  in vivid detail, exactly how annoying it would be to continue\n",
    "        this process."
   ]
  },
  {
   "cell_type": "markdown",
   "id": "ac60edf0",
   "metadata": {},
   "source": [
    "it would be quite annoying :)"
   ]
  },
  {
   "cell_type": "markdown",
   "id": "6e48993e",
   "metadata": {},
   "source": [
    "    B.  how this might be prone to buggy code."
   ]
  },
  {
   "cell_type": "markdown",
   "id": "9788e2cf",
   "metadata": {},
   "source": [
    "while typing out all the columns it would be easy to make name errors"
   ]
  },
  {
   "cell_type": "markdown",
   "id": "5efe9615",
   "metadata": {},
   "source": [
    "#### Method 2 – dictionary unpacking. \n",
    "\n",
    "Recall that we cleaned up repeated,\n",
    "similar transformations in [Lecture 3.5](https://github.com/wsu-stat489/module3_more_about_mutate/blob/main/3_5_DRY_and_many_transformations.ipynb). Let’s apply that approach here.\n",
    "\n",
    "1.  Get a `list` of all the questions columns, e.g., using `dfply.columns_from`."
   ]
  },
  {
   "cell_type": "code",
   "execution_count": null,
   "id": "c3983cf0",
   "metadata": {},
   "outputs": [
    {
     "data": {
      "text/plain": [
       "['F1', 'F5', 'F2', 'F1_1', 'F2_1']"
      ]
     },
     "execution_count": 59,
     "metadata": {},
     "output_type": "execute_result"
    }
   ],
   "source": [
    "cols_to_recode = columns_from('F1').evaluate(survey)\n",
    "cols_to_recode[0:5]"
   ]
  },
  {
   "cell_type": "markdown",
   "id": "101809bb",
   "metadata": {},
   "source": [
    "2.  Pick one of the columns and write the expression to transform that\n",
    "    column. Be sure to use the `df[\"col_string\"]` method of referencing\n",
    "    the column."
   ]
  },
  {
   "cell_type": "code",
   "execution_count": null,
   "id": "2d6db866",
   "metadata": {},
   "outputs": [
    {
     "data": {
      "text/plain": [
       "0    4\n",
       "1    4\n",
       "2    5\n",
       "3    4\n",
       "4    5\n",
       "Name: F1, dtype: Int64"
      ]
     },
     "execution_count": 69,
     "metadata": {},
     "output_type": "execute_result"
    }
   ],
   "source": [
    "survey['F1'].map(recode).astype(\"Int64\").head()"
   ]
  },
  {
   "cell_type": "markdown",
   "id": "6d6527a9",
   "metadata": {},
   "source": [
    "3.  Create a variable to hold this column string. Replace the hard coded\n",
    "    column name with a variable. Rerun to test.  "
   ]
  },
  {
   "cell_type": "code",
   "execution_count": null,
   "id": "d311e7bd",
   "metadata": {},
   "outputs": [
    {
     "data": {
      "text/plain": [
       "0    4\n",
       "1    4\n",
       "2    5\n",
       "3    4\n",
       "4    5\n",
       "Name: F1, dtype: Int64"
      ]
     },
     "execution_count": 71,
     "metadata": {},
     "output_type": "execute_result"
    }
   ],
   "source": [
    "c = 'F1'\n",
    "\n",
    "survey[c].map(recode).astype(\"Int64\").head()"
   ]
  },
  {
   "cell_type": "markdown",
   "id": "303aaf80",
   "metadata": {},
   "source": [
    "4.  Convert the single expression to a `dict` using a comprehension\n",
    "    that iterates over all column names. We want the keys to the be the\n",
    "    column names and values the resulting recoded columns.  Rerun to\n",
    "    test. Clean up the code by packaging the complexity in `lambda` functions."
   ]
  },
  {
   "cell_type": "code",
   "execution_count": null,
   "id": "abdef127",
   "metadata": {},
   "outputs": [],
   "source": [
    "survey_recode = {c: (survey[c]\n",
    "                     .map(recode)\n",
    "                     .astype(\"Int64\")\n",
    "                    ) \n",
    "                 for c in cols_to_recode}"
   ]
  },
  {
   "cell_type": "code",
   "execution_count": null,
   "id": "02c22746",
   "metadata": {},
   "outputs": [],
   "source": [
    "# survey_recode"
   ]
  },
  {
   "cell_type": "markdown",
   "id": "30254687",
   "metadata": {},
   "source": [
    "5.  Use our dictionary in a mutate using `**` unpacking.  "
   ]
  },
  {
   "cell_type": "code",
   "execution_count": null,
   "id": "36277292",
   "metadata": {},
   "outputs": [
    {
     "data": {
      "text/html": [
       "<div>\n",
       "<style scoped>\n",
       "    .dataframe tbody tr th:only-of-type {\n",
       "        vertical-align: middle;\n",
       "    }\n",
       "\n",
       "    .dataframe tbody tr th {\n",
       "        vertical-align: top;\n",
       "    }\n",
       "\n",
       "    .dataframe thead th {\n",
       "        text-align: right;\n",
       "    }\n",
       "</style>\n",
       "<table border=\"1\" class=\"dataframe\">\n",
       "  <thead>\n",
       "    <tr style=\"text-align: right;\">\n",
       "      <th></th>\n",
       "      <th>ID</th>\n",
       "      <th>F1</th>\n",
       "      <th>F5</th>\n",
       "      <th>F2</th>\n",
       "      <th>F1_1</th>\n",
       "      <th>F2_1</th>\n",
       "      <th>F6</th>\n",
       "      <th>F4</th>\n",
       "      <th>F3</th>\n",
       "      <th>F5_1</th>\n",
       "      <th>...</th>\n",
       "      <th>F2_9</th>\n",
       "      <th>F3_4</th>\n",
       "      <th>F4_3</th>\n",
       "      <th>F2_10</th>\n",
       "      <th>F1_7</th>\n",
       "      <th>F6_4</th>\n",
       "      <th>F4_4</th>\n",
       "      <th>F5_7</th>\n",
       "      <th>F3_5</th>\n",
       "      <th>F2_11</th>\n",
       "    </tr>\n",
       "  </thead>\n",
       "  <tbody>\n",
       "    <tr>\n",
       "      <th>0</th>\n",
       "      <td>1</td>\n",
       "      <td>4</td>\n",
       "      <td>2</td>\n",
       "      <td>4</td>\n",
       "      <td>4</td>\n",
       "      <td>4</td>\n",
       "      <td>2</td>\n",
       "      <td>4</td>\n",
       "      <td>4</td>\n",
       "      <td>4</td>\n",
       "      <td>...</td>\n",
       "      <td>4</td>\n",
       "      <td>2</td>\n",
       "      <td>3</td>\n",
       "      <td>4</td>\n",
       "      <td>4</td>\n",
       "      <td>4</td>\n",
       "      <td>4</td>\n",
       "      <td>4</td>\n",
       "      <td>4</td>\n",
       "      <td>4</td>\n",
       "    </tr>\n",
       "    <tr>\n",
       "      <th>1</th>\n",
       "      <td>2</td>\n",
       "      <td>4</td>\n",
       "      <td>2</td>\n",
       "      <td>4</td>\n",
       "      <td>4</td>\n",
       "      <td>4</td>\n",
       "      <td>2</td>\n",
       "      <td>4</td>\n",
       "      <td>3</td>\n",
       "      <td>3</td>\n",
       "      <td>...</td>\n",
       "      <td>4</td>\n",
       "      <td>4</td>\n",
       "      <td>3</td>\n",
       "      <td>4</td>\n",
       "      <td>4</td>\n",
       "      <td>2</td>\n",
       "      <td>3</td>\n",
       "      <td>4</td>\n",
       "      <td>3</td>\n",
       "      <td>4</td>\n",
       "    </tr>\n",
       "    <tr>\n",
       "      <th>2</th>\n",
       "      <td>3</td>\n",
       "      <td>5</td>\n",
       "      <td>3</td>\n",
       "      <td>4</td>\n",
       "      <td>5</td>\n",
       "      <td>5</td>\n",
       "      <td>2</td>\n",
       "      <td>4</td>\n",
       "      <td>4</td>\n",
       "      <td>4</td>\n",
       "      <td>...</td>\n",
       "      <td>4</td>\n",
       "      <td>4</td>\n",
       "      <td>3</td>\n",
       "      <td>4</td>\n",
       "      <td>4</td>\n",
       "      <td>4</td>\n",
       "      <td>4</td>\n",
       "      <td>5</td>\n",
       "      <td>1</td>\n",
       "      <td>4</td>\n",
       "    </tr>\n",
       "    <tr>\n",
       "      <th>3</th>\n",
       "      <td>4</td>\n",
       "      <td>4</td>\n",
       "      <td>4</td>\n",
       "      <td>5</td>\n",
       "      <td>4</td>\n",
       "      <td>5</td>\n",
       "      <td>3</td>\n",
       "      <td>3</td>\n",
       "      <td>2</td>\n",
       "      <td>4</td>\n",
       "      <td>...</td>\n",
       "      <td>4</td>\n",
       "      <td>2</td>\n",
       "      <td>4</td>\n",
       "      <td>4</td>\n",
       "      <td>3</td>\n",
       "      <td>3</td>\n",
       "      <td>3</td>\n",
       "      <td>4</td>\n",
       "      <td>2</td>\n",
       "      <td>4</td>\n",
       "    </tr>\n",
       "    <tr>\n",
       "      <th>4</th>\n",
       "      <td>5</td>\n",
       "      <td>5</td>\n",
       "      <td>1</td>\n",
       "      <td>3</td>\n",
       "      <td>5</td>\n",
       "      <td>4</td>\n",
       "      <td>1</td>\n",
       "      <td>5</td>\n",
       "      <td>4</td>\n",
       "      <td>3</td>\n",
       "      <td>...</td>\n",
       "      <td>4</td>\n",
       "      <td>4</td>\n",
       "      <td>3</td>\n",
       "      <td>4</td>\n",
       "      <td>4</td>\n",
       "      <td>4</td>\n",
       "      <td>4</td>\n",
       "      <td>5</td>\n",
       "      <td>2</td>\n",
       "      <td>4</td>\n",
       "    </tr>\n",
       "    <tr>\n",
       "      <th>...</th>\n",
       "      <td>...</td>\n",
       "      <td>...</td>\n",
       "      <td>...</td>\n",
       "      <td>...</td>\n",
       "      <td>...</td>\n",
       "      <td>...</td>\n",
       "      <td>...</td>\n",
       "      <td>...</td>\n",
       "      <td>...</td>\n",
       "      <td>...</td>\n",
       "      <td>...</td>\n",
       "      <td>...</td>\n",
       "      <td>...</td>\n",
       "      <td>...</td>\n",
       "      <td>...</td>\n",
       "      <td>...</td>\n",
       "      <td>...</td>\n",
       "      <td>...</td>\n",
       "      <td>...</td>\n",
       "      <td>...</td>\n",
       "      <td>...</td>\n",
       "    </tr>\n",
       "    <tr>\n",
       "      <th>259</th>\n",
       "      <td>260</td>\n",
       "      <td>4</td>\n",
       "      <td>2</td>\n",
       "      <td>4</td>\n",
       "      <td>3</td>\n",
       "      <td>4</td>\n",
       "      <td>1</td>\n",
       "      <td>4</td>\n",
       "      <td>3</td>\n",
       "      <td>4</td>\n",
       "      <td>...</td>\n",
       "      <td>5</td>\n",
       "      <td>4</td>\n",
       "      <td>3</td>\n",
       "      <td>4</td>\n",
       "      <td>3</td>\n",
       "      <td>3</td>\n",
       "      <td>4</td>\n",
       "      <td>4</td>\n",
       "      <td>4</td>\n",
       "      <td>3</td>\n",
       "    </tr>\n",
       "    <tr>\n",
       "      <th>260</th>\n",
       "      <td>261</td>\n",
       "      <td>4</td>\n",
       "      <td>4</td>\n",
       "      <td>5</td>\n",
       "      <td>5</td>\n",
       "      <td>4</td>\n",
       "      <td>2</td>\n",
       "      <td>4</td>\n",
       "      <td>4</td>\n",
       "      <td>4</td>\n",
       "      <td>...</td>\n",
       "      <td>4</td>\n",
       "      <td>4</td>\n",
       "      <td>3</td>\n",
       "      <td>3</td>\n",
       "      <td>3</td>\n",
       "      <td>&lt;NA&gt;</td>\n",
       "      <td>4</td>\n",
       "      <td>4</td>\n",
       "      <td>4</td>\n",
       "      <td>4</td>\n",
       "    </tr>\n",
       "    <tr>\n",
       "      <th>261</th>\n",
       "      <td>262</td>\n",
       "      <td>4</td>\n",
       "      <td>3</td>\n",
       "      <td>4</td>\n",
       "      <td>5</td>\n",
       "      <td>5</td>\n",
       "      <td>2</td>\n",
       "      <td>5</td>\n",
       "      <td>4</td>\n",
       "      <td>4</td>\n",
       "      <td>...</td>\n",
       "      <td>4</td>\n",
       "      <td>3</td>\n",
       "      <td>2</td>\n",
       "      <td>4</td>\n",
       "      <td>2</td>\n",
       "      <td>3</td>\n",
       "      <td>5</td>\n",
       "      <td>3</td>\n",
       "      <td>3</td>\n",
       "      <td>4</td>\n",
       "    </tr>\n",
       "    <tr>\n",
       "      <th>262</th>\n",
       "      <td>263</td>\n",
       "      <td>5</td>\n",
       "      <td>2</td>\n",
       "      <td>5</td>\n",
       "      <td>5</td>\n",
       "      <td>4</td>\n",
       "      <td>2</td>\n",
       "      <td>4</td>\n",
       "      <td>4</td>\n",
       "      <td>4</td>\n",
       "      <td>...</td>\n",
       "      <td>4</td>\n",
       "      <td>4</td>\n",
       "      <td>2</td>\n",
       "      <td>4</td>\n",
       "      <td>4</td>\n",
       "      <td>2</td>\n",
       "      <td>4</td>\n",
       "      <td>5</td>\n",
       "      <td>2</td>\n",
       "      <td>4</td>\n",
       "    </tr>\n",
       "    <tr>\n",
       "      <th>263</th>\n",
       "      <td>264</td>\n",
       "      <td>4</td>\n",
       "      <td>1</td>\n",
       "      <td>5</td>\n",
       "      <td>4</td>\n",
       "      <td>5</td>\n",
       "      <td>3</td>\n",
       "      <td>5</td>\n",
       "      <td>3</td>\n",
       "      <td>2</td>\n",
       "      <td>...</td>\n",
       "      <td>4</td>\n",
       "      <td>3</td>\n",
       "      <td>2</td>\n",
       "      <td>4</td>\n",
       "      <td>4</td>\n",
       "      <td>3</td>\n",
       "      <td>4</td>\n",
       "      <td>5</td>\n",
       "      <td>1</td>\n",
       "      <td>4</td>\n",
       "    </tr>\n",
       "  </tbody>\n",
       "</table>\n",
       "<p>264 rows × 45 columns</p>\n",
       "</div>"
      ],
      "text/plain": [
       "      ID  F1  F5  F2  F1_1  F2_1  F6  F4  F3  F5_1  ...  F2_9  F3_4  F4_3  \\\n",
       "0      1   4   2   4     4     4   2   4   4     4  ...     4     2     3   \n",
       "1      2   4   2   4     4     4   2   4   3     3  ...     4     4     3   \n",
       "2      3   5   3   4     5     5   2   4   4     4  ...     4     4     3   \n",
       "3      4   4   4   5     4     5   3   3   2     4  ...     4     2     4   \n",
       "4      5   5   1   3     5     4   1   5   4     3  ...     4     4     3   \n",
       "..   ...  ..  ..  ..   ...   ...  ..  ..  ..   ...  ...   ...   ...   ...   \n",
       "259  260   4   2   4     3     4   1   4   3     4  ...     5     4     3   \n",
       "260  261   4   4   5     5     4   2   4   4     4  ...     4     4     3   \n",
       "261  262   4   3   4     5     5   2   5   4     4  ...     4     3     2   \n",
       "262  263   5   2   5     5     4   2   4   4     4  ...     4     4     2   \n",
       "263  264   4   1   5     4     5   3   5   3     2  ...     4     3     2   \n",
       "\n",
       "     F2_10  F1_7  F6_4  F4_4  F5_7  F3_5  F2_11  \n",
       "0        4     4     4     4     4     4      4  \n",
       "1        4     4     2     3     4     3      4  \n",
       "2        4     4     4     4     5     1      4  \n",
       "3        4     3     3     3     4     2      4  \n",
       "4        4     4     4     4     5     2      4  \n",
       "..     ...   ...   ...   ...   ...   ...    ...  \n",
       "259      4     3     3     4     4     4      3  \n",
       "260      3     3  <NA>     4     4     4      4  \n",
       "261      4     2     3     5     3     3      4  \n",
       "262      4     4     2     4     5     2      4  \n",
       "263      4     4     3     4     5     1      4  \n",
       "\n",
       "[264 rows x 45 columns]"
      ]
     },
     "execution_count": 88,
     "metadata": {},
     "output_type": "execute_result"
    }
   ],
   "source": [
    "(survey\n",
    "    >> mutate(**survey_recode)\n",
    ")"
   ]
  },
  {
   "cell_type": "markdown",
   "id": "53c66325",
   "metadata": {},
   "source": [
    "#### Method 3 – Stack Transform Unstack. \n",
    "\n",
    "Another method for applying the\n",
    "same transformation to multiple columns is to (A) stack all the columns\n",
    "that need transformation, (B) applying the transformation to the stacked\n",
    "values column, and (C) unstacking the data back into the original shape.\n",
    "This is the approach you will apply in **Part 2**."
   ]
  },
  {
   "cell_type": "markdown",
   "id": "bca4ee74",
   "metadata": {},
   "source": [
    "## Part 2 – Performing data preparation\n",
    "\n",
    "Dr. Bergen, Director of the Statistical Consulting Center at WSU, needs\n",
    "you to prepare the attached data for analysis. The file\n",
    "**health_survey.csv** contains the responses to a series of\n",
    "health-related questions and we need to recode the responses as 1-5\n",
    "using the definition below. It is important to note that the clients\n",
    "consider “Strongly Agree” the best answer for most of the questions\n",
    "coded and want it mapped to 5, but there are a handful of questions for\n",
    "which they want the mapping reversed as “Strongly Disagree” the\n",
    "preferred answer. The two types of codings are illustrated in the table\n",
    "shown below and the list of questions that should receive the reverse\n",
    "coding are available in the file **ReverseCodingItems.csv**.\n",
    "\n",
    "| Old Label                    | Regular Coded Value | Reverse Coding |\n",
    "|------------------------------|---------------------|----------------|\n",
    "| “Strongly Disagree”          | 1                   | 5              |\n",
    "| “Somewhat Disagree”          | 2                   | 4              |\n",
    "| “Neither Agree nor Disagree” | 3                   | 3              |\n",
    "| “Somewhat Agree”             | 4                   | 2              |\n",
    "| “Strongly Agree”             | 5                   | 1              |\n",
    "\n",
    "**Note.** I have prototyped this process in JMP and have provided screenshots of the resulting tables as a guide."
   ]
  },
  {
   "cell_type": "markdown",
   "id": "5031bd40",
   "metadata": {},
   "source": [
    "1.  Read in the `ReverseCodingItems.csv` file.  Note that the names in the `\"Column Name\"` column contain `\".\"`s.  Fix this, then look at the questions that need reverse coding and explain why it makes sense to reverse the coding on these items."
   ]
  },
  {
   "cell_type": "code",
   "execution_count": null,
   "id": "21f3d9a7",
   "metadata": {},
   "outputs": [
    {
     "ename": "NameError",
     "evalue": "name 'pd' is not defined",
     "output_type": "error",
     "traceback": [
      "\u001b[0;31m---------------------------------------------------------------------------\u001b[0m",
      "\u001b[0;31mNameError\u001b[0m                                 Traceback (most recent call last)",
      "\u001b[1;32m/home/wz8878wh/NagelJoseph_act3_2_recoding_and_aggregating_survey_data/act3_2_recoding_survey_data.ipynb Cell 38\u001b[0m in \u001b[0;36m<cell line: 1>\u001b[0;34m()\u001b[0m\n\u001b[0;32m----> <a href='vscode-notebook-cell://wsl%2Bubuntu-20.04/home/wz8878wh/NagelJoseph_act3_2_recoding_and_aggregating_survey_data/act3_2_recoding_survey_data.ipynb#X52sdnNjb2RlLXJlbW90ZQ%3D%3D?line=0'>1</a>\u001b[0m reverse_coding \u001b[39m=\u001b[39m pd\u001b[39m.\u001b[39mread_csv(\u001b[39m'\u001b[39m\u001b[39mdata/ReverseCodingItems.csv\u001b[39m\u001b[39m'\u001b[39m)\n",
      "\u001b[0;31mNameError\u001b[0m: name 'pd' is not defined"
     ]
    }
   ],
   "source": [
    "reverse_coding = pd.read_csv('data/ReverseCodingItems.csv')"
   ]
  },
  {
   "cell_type": "markdown",
   "id": "ef8feb5c",
   "metadata": {},
   "source": [
    "<font color=\"blue\"> *Your thoughts here* </font>"
   ]
  },
  {
   "cell_type": "markdown",
   "id": "2d8220bf",
   "metadata": {},
   "source": [
    "2. Next, you will perform the data preparation by completing each of\n",
    "    the tasks listed below.  First, *Stack* the response columns.\n",
    "\n",
    "<img src=\"img/media/image1.png\" style=\"width:2.91924in;height:1.85212in\" alt=\"../../../../Desktop/Screen%20Shot%202018-03-22%20at%201.30.46%20\" />\n",
    "\n",
    "Work in a pipe and add a temporary `head` at the end."
   ]
  },
  {
   "cell_type": "code",
   "execution_count": null,
   "id": "745aa139",
   "metadata": {},
   "outputs": [],
   "source": [
    "# Your code here"
   ]
  },
  {
   "cell_type": "markdown",
   "id": "73bd43b9",
   "metadata": {},
   "source": [
    "3.  Make a new column called *Needs Reverse* by joining on\n",
    "    the `\"Yes\"` or `\"No\"` values from the *Needs Reverse Coding?* from **ReverseCodingItems.csv.**\n",
    "\n",
    "> <img src=\"img/media/image2.png\"\n",
    "> style=\"width:3.78315in;\"\n",
    "> alt=\"../../../../Desktop/Screen%20Shot%202018-03-22%20at%201.35.26%20\" />\n",
    "\n",
    "Start by copying and adding to the pipe from the previous cell. In practice, you would continue to work in the same cell, but we are illustrating the standard best practice in working with data, by continually cycling through the following steps\n",
    "\n",
    "1. Add the next step\n",
    "2. Rerun your code to test.\n",
    "\n",
    "I want to verify that you are following this practice, which is why we will be copying our previous code to the next step"
   ]
  },
  {
   "cell_type": "code",
   "execution_count": null,
   "id": "18d5c460",
   "metadata": {},
   "outputs": [],
   "source": [
    "# Copy your last pipe and edit the code here"
   ]
  },
  {
   "cell_type": "markdown",
   "id": "e878fabe",
   "metadata": {},
   "source": [
    "4.   We already created a `dict` for the regular coding.  Make a `dict` for the reverse coding using a `dict` comprehension.  Remember to use the `items` method and two names to iterate through the original `dict`.  Use subtraction."
   ]
  },
  {
   "cell_type": "code",
   "execution_count": null,
   "id": "57043a0f",
   "metadata": {},
   "outputs": [],
   "source": [
    "# Copy your last pipe and edit the code here"
   ]
  },
  {
   "cell_type": "markdown",
   "id": "c40fe52e",
   "metadata": {},
   "source": [
    "5.   Next we need to make a column with the question type.  For example, all questions that start with `F1`, like `F1` and `F1_1`, need to be coded as `F1`.  Add a `mutate` to create this column using one of the string transformations (extract, split, etc.) from this module.\n",
    "\n",
    "> <img src=\"img/media/image6.png\"\n",
    "> style=\"width:2.97769in;\"\n",
    "> alt=\"../../../../Desktop/Screen%20Shot%202018-03-22%20at%201.45.03%20\" />"
   ]
  },
  {
   "cell_type": "code",
   "execution_count": null,
   "id": "9dc77f04",
   "metadata": {},
   "outputs": [],
   "source": [
    "# Copy your last pipe and edit the code here"
   ]
  },
  {
   "cell_type": "markdown",
   "id": "b02d27e4",
   "metadata": {},
   "source": [
    "6.  Make a new column by *Recoding* the Question Types to *F1, F2, …,\n",
    "    F6.* based on the `Question Type`. **Hint:** You might want to use the `dfply.ifelse`.\n",
    "\n",
    "> <img src=\"img/media/image6.png\"\n",
    "> style=\"width:2.97769in;\"\n",
    "> alt=\"../../../../Desktop/Screen%20Shot%202018-03-22%20at%201.45.03%20\" />"
   ]
  },
  {
   "cell_type": "code",
   "execution_count": null,
   "id": "3f8be6d9",
   "metadata": {},
   "outputs": [],
   "source": [
    "# Copy your last pipe and edit the code here"
   ]
  },
  {
   "cell_type": "markdown",
   "id": "1c998706",
   "metadata": {},
   "source": [
    "7.  *Aggregate* and *unstack.*\n",
    "\n",
    "> <img src=\"img/media/image7.png\"\n",
    "> style=\"width:2.46321in;\"\n",
    "> alt=\"../../../../Desktop/Screen%20Shot%202018-03-22%20at%201.46.11%20\" />\n",
    "> <img src=\"img/media/image8.png\"\n",
    "> style=\"width:2.96893in;\"\n",
    "> alt=\"../../../../Desktop/Screen%20Shot%202018-03-22%20at%201.46.34%20\" />"
   ]
  },
  {
   "cell_type": "code",
   "execution_count": null,
   "id": "8a446e35",
   "metadata": {},
   "outputs": [],
   "source": [
    "# Copy your last pipe and edit the code here"
   ]
  },
  {
   "cell_type": "markdown",
   "id": "38ede7e9",
   "metadata": {},
   "source": [
    "8.  Save the table to a csv file in the `data` folder."
   ]
  },
  {
   "cell_type": "code",
   "execution_count": null,
   "id": "f9fcfa43",
   "metadata": {},
   "outputs": [],
   "source": [
    "# Your code here"
   ]
  },
  {
   "cell_type": "markdown",
   "id": "cfe52c47",
   "metadata": {},
   "source": [
    "**Deliverables.** Submit this document with your answer to question 1,\n",
    "the JMP file containing the results of Part 1, and a csv file with your\n",
    "final table."
   ]
  }
 ],
 "metadata": {
  "kernelspec": {
   "display_name": "Python 3.9.12 64-bit ('base')",
   "language": "python",
   "name": "python3"
  },
  "language_info": {
   "codemirror_mode": {
    "name": "ipython",
    "version": 3
   },
   "file_extension": ".py",
   "mimetype": "text/x-python",
   "name": "python",
   "nbconvert_exporter": "python",
   "pygments_lexer": "ipython3",
   "version": "3.9.12"
  },
  "vscode": {
   "interpreter": {
    "hash": "34da767f49dea9edbbc5e83aec14ec7c721dd9d9b0234afdf20e34ac38737167"
   }
  }
 },
 "nbformat": 4,
 "nbformat_minor": 5
}
